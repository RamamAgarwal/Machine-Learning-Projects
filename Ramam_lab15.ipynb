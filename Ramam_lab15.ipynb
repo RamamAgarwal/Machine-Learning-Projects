{
  "nbformat": 4,
  "nbformat_minor": 0,
  "metadata": {
    "colab": {
      "provenance": []
    },
    "kernelspec": {
      "name": "python3",
      "display_name": "Python 3"
    },
    "language_info": {
      "name": "python"
    }
  },
  "cells": [
    {
      "cell_type": "code",
      "source": [
        "from google.colab import drive\n",
        "drive.mount('/content/drive')"
      ],
      "metadata": {
        "colab": {
          "base_uri": "https://localhost:8080/"
        },
        "id": "VflMtjLlonEJ",
        "outputId": "56bba47a-1162-4496-dd44-6b4b5f7a8699"
      },
      "execution_count": null,
      "outputs": [
        {
          "output_type": "stream",
          "name": "stdout",
          "text": [
            "Mounted at /content/drive\n"
          ]
        }
      ]
    },
    {
      "cell_type": "code",
      "execution_count": null,
      "metadata": {
        "colab": {
          "base_uri": "https://localhost:8080/"
        },
        "id": "zgzUSGG2nUdK",
        "outputId": "99d8fbe7-eee0-4d52-bd19-d98fe38dd113"
      },
      "outputs": [
        {
          "output_type": "stream",
          "name": "stderr",
          "text": [
            "<ipython-input-3-37401b4044eb>:28: FutureWarning: The 'delim_whitespace' keyword in pd.read_csv is deprecated and will be removed in a future version. Use ``sep='\\s+'`` instead\n",
            "  read_csv(train_path + f, header=None, delim_whitespace=True).values\n",
            "<ipython-input-3-37401b4044eb>:28: FutureWarning: The 'delim_whitespace' keyword in pd.read_csv is deprecated and will be removed in a future version. Use ``sep='\\s+'`` instead\n",
            "  read_csv(train_path + f, header=None, delim_whitespace=True).values\n",
            "<ipython-input-3-37401b4044eb>:28: FutureWarning: The 'delim_whitespace' keyword in pd.read_csv is deprecated and will be removed in a future version. Use ``sep='\\s+'`` instead\n",
            "  read_csv(train_path + f, header=None, delim_whitespace=True).values\n",
            "<ipython-input-3-37401b4044eb>:28: FutureWarning: The 'delim_whitespace' keyword in pd.read_csv is deprecated and will be removed in a future version. Use ``sep='\\s+'`` instead\n",
            "  read_csv(train_path + f, header=None, delim_whitespace=True).values\n",
            "<ipython-input-3-37401b4044eb>:28: FutureWarning: The 'delim_whitespace' keyword in pd.read_csv is deprecated and will be removed in a future version. Use ``sep='\\s+'`` instead\n",
            "  read_csv(train_path + f, header=None, delim_whitespace=True).values\n",
            "<ipython-input-3-37401b4044eb>:28: FutureWarning: The 'delim_whitespace' keyword in pd.read_csv is deprecated and will be removed in a future version. Use ``sep='\\s+'`` instead\n",
            "  read_csv(train_path + f, header=None, delim_whitespace=True).values\n",
            "<ipython-input-3-37401b4044eb>:28: FutureWarning: The 'delim_whitespace' keyword in pd.read_csv is deprecated and will be removed in a future version. Use ``sep='\\s+'`` instead\n",
            "  read_csv(train_path + f, header=None, delim_whitespace=True).values\n",
            "<ipython-input-3-37401b4044eb>:28: FutureWarning: The 'delim_whitespace' keyword in pd.read_csv is deprecated and will be removed in a future version. Use ``sep='\\s+'`` instead\n",
            "  read_csv(train_path + f, header=None, delim_whitespace=True).values\n",
            "<ipython-input-3-37401b4044eb>:28: FutureWarning: The 'delim_whitespace' keyword in pd.read_csv is deprecated and will be removed in a future version. Use ``sep='\\s+'`` instead\n",
            "  read_csv(train_path + f, header=None, delim_whitespace=True).values\n",
            "<ipython-input-3-37401b4044eb>:42: FutureWarning: The 'delim_whitespace' keyword in pd.read_csv is deprecated and will be removed in a future version. Use ``sep='\\s+'`` instead\n",
            "  read_csv(test_path + f, header=None, delim_whitespace=True).values\n",
            "<ipython-input-3-37401b4044eb>:42: FutureWarning: The 'delim_whitespace' keyword in pd.read_csv is deprecated and will be removed in a future version. Use ``sep='\\s+'`` instead\n",
            "  read_csv(test_path + f, header=None, delim_whitespace=True).values\n",
            "<ipython-input-3-37401b4044eb>:42: FutureWarning: The 'delim_whitespace' keyword in pd.read_csv is deprecated and will be removed in a future version. Use ``sep='\\s+'`` instead\n",
            "  read_csv(test_path + f, header=None, delim_whitespace=True).values\n",
            "<ipython-input-3-37401b4044eb>:42: FutureWarning: The 'delim_whitespace' keyword in pd.read_csv is deprecated and will be removed in a future version. Use ``sep='\\s+'`` instead\n",
            "  read_csv(test_path + f, header=None, delim_whitespace=True).values\n",
            "<ipython-input-3-37401b4044eb>:42: FutureWarning: The 'delim_whitespace' keyword in pd.read_csv is deprecated and will be removed in a future version. Use ``sep='\\s+'`` instead\n",
            "  read_csv(test_path + f, header=None, delim_whitespace=True).values\n",
            "<ipython-input-3-37401b4044eb>:42: FutureWarning: The 'delim_whitespace' keyword in pd.read_csv is deprecated and will be removed in a future version. Use ``sep='\\s+'`` instead\n",
            "  read_csv(test_path + f, header=None, delim_whitespace=True).values\n",
            "<ipython-input-3-37401b4044eb>:42: FutureWarning: The 'delim_whitespace' keyword in pd.read_csv is deprecated and will be removed in a future version. Use ``sep='\\s+'`` instead\n",
            "  read_csv(test_path + f, header=None, delim_whitespace=True).values\n",
            "<ipython-input-3-37401b4044eb>:42: FutureWarning: The 'delim_whitespace' keyword in pd.read_csv is deprecated and will be removed in a future version. Use ``sep='\\s+'`` instead\n",
            "  read_csv(test_path + f, header=None, delim_whitespace=True).values\n",
            "<ipython-input-3-37401b4044eb>:42: FutureWarning: The 'delim_whitespace' keyword in pd.read_csv is deprecated and will be removed in a future version. Use ``sep='\\s+'`` instead\n",
            "  read_csv(test_path + f, header=None, delim_whitespace=True).values\n"
          ]
        },
        {
          "output_type": "stream",
          "name": "stdout",
          "text": [
            "\n",
            "Run 1/10\n"
          ]
        },
        {
          "output_type": "stream",
          "name": "stderr",
          "text": [
            "/usr/local/lib/python3.11/dist-packages/keras/src/layers/rnn/rnn.py:200: UserWarning: Do not pass an `input_shape`/`input_dim` argument to a layer. When using Sequential models, prefer using an `Input(shape)` object as the first layer in the model instead.\n",
            "  super().__init__(**kwargs)\n"
          ]
        },
        {
          "output_type": "stream",
          "name": "stdout",
          "text": [
            "Test accuracy: 0.891\n",
            "\n",
            "Run 2/10\n",
            "Test accuracy: 0.909\n",
            "\n",
            "Run 3/10\n",
            "Test accuracy: 0.880\n",
            "\n",
            "Run 4/10\n",
            "Test accuracy: 0.905\n",
            "\n",
            "Run 5/10\n",
            "Test accuracy: 0.918\n",
            "\n",
            "Run 6/10\n",
            "Test accuracy: 0.883\n",
            "\n",
            "Run 7/10\n",
            "Test accuracy: 0.910\n",
            "\n",
            "Run 8/10\n",
            "Test accuracy: 0.911\n",
            "\n",
            "Run 9/10\n",
            "Test accuracy: 0.902\n",
            "\n",
            "Run 10/10\n",
            "Test accuracy: 0.867\n",
            "\n",
            "All accuracies: ['0.891', '0.909', '0.880', '0.905', '0.918', '0.883', '0.910', '0.911', '0.902', '0.867']\n",
            "Mean accuracy: 0.897 (± 0.016)\n"
          ]
        }
      ],
      "source": [
        "# Importing required libraries\n",
        "import numpy as np\n",
        "from pandas import read_csv\n",
        "from keras.models import Sequential\n",
        "from keras.layers import LSTM, Dense, Dropout\n",
        "from keras.utils import to_categorical\n",
        "from numpy import mean, std\n",
        "\n",
        "\n",
        "# Loading and preparing dataset\n",
        "def load_data():\n",
        "    # Defining training data path and signal files\n",
        "    train_path = '/content/drive/MyDrive/UCI HAR Dataset/UCI HAR Dataset/train'\n",
        "    train_files = [\n",
        "        '/Inertial Signals/total_acc_x_train.txt',\n",
        "        '/Inertial Signals/total_acc_y_train.txt',\n",
        "        '/Inertial Signals/total_acc_z_train.txt',\n",
        "        '/Inertial Signals/body_acc_x_train.txt',\n",
        "        '/Inertial Signals/body_acc_y_train.txt',\n",
        "        '/Inertial Signals/body_acc_z_train.txt',\n",
        "        '/Inertial Signals/body_gyro_x_train.txt',\n",
        "        '/Inertial Signals/body_gyro_y_train.txt',\n",
        "        '/Inertial Signals/body_gyro_z_train.txt'\n",
        "    ]\n",
        "\n",
        "    # Loading training signals\n",
        "    X_train = np.dstack([\n",
        "        read_csv(train_path + f, header=None, delim_whitespace=True).values\n",
        "        for f in train_files\n",
        "    ])\n",
        "    # Loading and one-hot encoding training labels\n",
        "    y_train = to_categorical(\n",
        "        read_csv(train_path + '/y_train.txt', header=None)[0] - 1\n",
        "    )\n",
        "\n",
        "    # Defining testing data path and corresponding files\n",
        "    test_path = '/content/drive/MyDrive/UCI HAR Dataset/UCI HAR Dataset/test'\n",
        "    test_files = [f.replace('train', 'test') for f in train_files]\n",
        "\n",
        "    # Loading testing signals\n",
        "    X_test = np.dstack([\n",
        "        read_csv(test_path + f, header=None, delim_whitespace=True).values\n",
        "        for f in test_files\n",
        "    ])\n",
        "    # Loading and one-hot encoding testing labels\n",
        "    y_test = to_categorical(\n",
        "        read_csv(test_path + '/y_test.txt', header=None)[0] - 1\n",
        "    )\n",
        "\n",
        "    return X_train, y_train, X_test, y_test\n",
        "\n",
        "# Loading dataset\n",
        "X_train, y_train, X_test, y_test = load_data()\n",
        "\n",
        "# Initializing accuracy storage\n",
        "accuracies = []\n",
        "\n",
        "# Running experiment 10 times\n",
        "for run in range(10):\n",
        "    print(f'\\nRun {run + 1}/10')\n",
        "\n",
        "    # Defining LSTM model\n",
        "    model = Sequential()\n",
        "    model.add(LSTM(100, input_shape=(128, 9)))\n",
        "    model.add(Dropout(0.5))\n",
        "    model.add(Dense(100, activation='relu'))\n",
        "    model.add(Dense(6, activation='softmax'))\n",
        "\n",
        "    # Compiling model\n",
        "    model.compile(\n",
        "        loss='categorical_crossentropy',\n",
        "        optimizer='adam',\n",
        "        metrics=['accuracy']\n",
        "    )\n",
        "\n",
        "    # Training model\n",
        "    model.fit(X_train, y_train, epochs=15, batch_size=64, verbose=0)\n",
        "\n",
        "    # Evaluating model\n",
        "    _, accuracy = model.evaluate(X_test, y_test, verbose=0)\n",
        "    accuracies.append(accuracy)\n",
        "    print(f'Test accuracy: {accuracy:.3f}')\n",
        "\n",
        "# Printing model accuracies\n",
        "print('\\nAll accuracies:', [f'{acc:.3f}' for acc in accuracies])\n",
        "print(f'Mean accuracy: {mean(accuracies):.3f} (± {std(accuracies):.3f})')\n"
      ]
    },
    {
      "cell_type": "markdown",
      "source": [
        "# **REPORT**\n",
        "\n",
        "1. Why was this problem suitable for LSTM and not just any other machine  \n",
        "   learning algorithm?\n",
        "\n",
        "  Ans. This problem 'Human Activity Recognition' from time-series sensor data involves patterns that evolve over time which is suitable for LSTM due to the involvement of sequential data having sequences. Each section of the sequence has a relationship with the data preceding or succeeding it and this relationship contains a lot of useful information. This sequential data is not i.i.d (independent and identically distributed) which is the reason why other machine learning algorithms fail to solve this problem. LSTMs, on the other hand, maintain an internal state (memory) across time steps, enabling them to learn both short and long term dependencies in the sensor signals.\n",
        "\n",
        "2. Is a many-to-many model a more real-world scenario for this problem or a     \n",
        "   many-to one model and why?\n",
        "\n",
        "  Ans. A many-to-one model would be a more real-world scenario for this lab problem because each window of time-series data is mapped to a single activity label.  In real-time applications, many-to-many may\n",
        "be used for continuous activity prediction, but for this dataset, each sequence\n",
        "(window) corresponds to one label.\n",
        "\n",
        "3. Explain the meaning of “Short Memory” and “Long Memory” in context of LSTMs.\n",
        "\n",
        " Ans. Hidden State in LSTM is known as the Short Term Memory while Cell State is known as the Long Term Memory. 'Short Memory' refers to the model's ability to remember recent inputs, while 'Long Memory' refers to retaining information from much earlier in the sequence.\n",
        "\n",
        "4. What are the three parts of an LSTM node and their functions?\n",
        "\n",
        " Ans. Three parts of LSTM are:\n",
        "\n",
        " (i) Forget Gate: The first part, the forget gate, chooses if the information coming from the previous timestamp should be remembered or is irrelevant and should be forgotten.\n",
        "\n",
        " (ii) Input Gate: The second part, the input gate, learns new information from the input to this cell.\n",
        "\n",
        " (iii) Ouput Gate:  In the third part, the output gate, the cell passes the updated information from the current timestamp to the next timestamp.\n",
        "\n",
        "5. What problems do RNNs face that LSTMs are able to adapt to fix?\n",
        "\n",
        " Ans. RNNs usually face the problems of:\n",
        "\n",
        "  (i) Exploding and vanishing gradients: In long sequences, gradients can shrink or grow exponentially, making training unstable or impossible.\n",
        "\n",
        "  (ii) Short-range dependency learning: Standard RNNs struggle to retain relevant information over many steps.\n",
        "\n",
        "  LSTMs address these issues by providing gated pathways and a nearly constant error cell state to learn longer sequences effectively."
      ],
      "metadata": {
        "id": "wusQMQkMC0wJ"
      }
    }
  ]
}